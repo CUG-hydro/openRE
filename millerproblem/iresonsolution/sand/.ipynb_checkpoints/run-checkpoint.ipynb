{
 "cells": [
  {
   "cell_type": "code",
   "execution_count": 1,
   "id": "86aa3e78",
   "metadata": {},
   "outputs": [],
   "source": [
    "# %load run.py\n",
    "import numpy as np\n",
    "import pandas as pd\n",
    "import matplotlib.pyplot as pl\n",
    "\n",
    "from Richards import run_RE"
   ]
  },
  {
   "cell_type": "code",
   "execution_count": 2,
   "id": "2b7bdd23",
   "metadata": {},
   "outputs": [
    {
     "name": "stdout",
     "output_type": "stream",
     "text": [
      "ode, with jac runtime = 4.10 seconds\n",
      "ode, with jac runtime = 11.63 seconds\n"
     ]
    }
   ],
   "source": [
    "# Soil properties:\n",
    "#import sys\n",
    "#sys.path.insert(0,'..')\n",
    "from setup import *\n",
    "\n",
    "z=np.arange(dz,zN,dz)\n",
    "n=len(z)\n",
    "\n",
    "# Initial condition:\n",
    "psi0=z-zN\n",
    "# psi0[0]=0.1\n",
    "# dt=0.1\n",
    "\n",
    "t=np.arange(0,tN+dt,dt)\n",
    "nt=len(t)\n",
    "BC_T=psiT+np.zeros(nt)\n",
    "BC_B=psiB+np.zeros(nt)\n",
    "dum,WB,runtime=run_RE(dt,t[:2],dz,zN,n,psi0,BC_T,BC_B,pars)\n",
    "psi,WB,runtime=run_RE(dt,t,dz,zN,n,psi0,BC_T,BC_B,pars)"
   ]
  },
  {
   "cell_type": "code",
   "execution_count": 3,
   "id": "774626ab",
   "metadata": {},
   "outputs": [
    {
     "data": {
      "text/plain": [
       "0.01"
      ]
     },
     "execution_count": 3,
     "metadata": {},
     "output_type": "execute_result"
    }
   ],
   "source": [
    "dt"
   ]
  },
  {
   "cell_type": "code",
   "execution_count": 5,
   "id": "f5b22d76",
   "metadata": {},
   "outputs": [
    {
     "data": {
      "text/plain": [
       "[<matplotlib.lines.Line2D at 0x7faea3747820>]"
      ]
     },
     "execution_count": 5,
     "metadata": {},
     "output_type": "execute_result"
    },
    {
     "data": {
      "image/png": "[encoded data removed]",
      "text/plain": [
       "<Figure size 432x288 with 1 Axes>"
      ]
     },
     "metadata": {
      "needs_background": "light"
     },
     "output_type": "display_data"
    }
   ],
   "source": [
    "pl.plot(psi[0,:],z)\n",
    "pl.plot(psi[1,:],z)\n",
    "pl.plot(psi[2,:],z)\n",
    "pl.plot(psi[3,:],z)\n",
    "pl.plot(psi[4,:],z)\n",
    "pl.plot(psi[5,:],z)\n",
    "\n",
    "# pl.ylim(0.1,0)\n",
    "# pl.xlim(-5,0)"
   ]
  },
  {
   "cell_type": "code",
   "execution_count": 19,
   "id": "9bc258fa",
   "metadata": {},
   "outputs": [
    {
     "data": {
      "text/plain": [
       "array([-1.99375, -1.9875 , -1.98125, -1.975  , -1.96875, -1.9625 ,\n",
       "       -1.95625, -1.95   , -1.94375, -1.9375 , -1.93125, -1.925  ,\n",
       "       -1.91875, -1.9125 , -1.90625, -1.9    , -1.89375, -1.8875 ,\n",
       "       -1.88125, -1.875  , -1.86875, -1.8625 , -1.85625, -1.85   ,\n",
       "       -1.84375, -1.8375 , -1.83125, -1.825  , -1.81875, -1.8125 ,\n",
       "       -1.80625, -1.8    , -1.79375, -1.7875 , -1.78125, -1.775  ,\n",
       "       -1.76875, -1.7625 , -1.75625, -1.75   , -1.74375, -1.7375 ,\n",
       "       -1.73125, -1.725  , -1.71875, -1.7125 , -1.70625, -1.7    ,\n",
       "       -1.69375, -1.6875 , -1.68125, -1.675  , -1.66875, -1.6625 ,\n",
       "       -1.65625, -1.65   , -1.64375, -1.6375 , -1.63125, -1.625  ,\n",
       "       -1.61875, -1.6125 , -1.60625, -1.6    , -1.59375, -1.5875 ,\n",
       "       -1.58125, -1.575  , -1.56875, -1.5625 , -1.55625, -1.55   ,\n",
       "       -1.54375, -1.5375 , -1.53125, -1.525  , -1.51875, -1.5125 ,\n",
       "       -1.50625, -1.5    , -1.49375, -1.4875 , -1.48125, -1.475  ,\n",
       "       -1.46875, -1.4625 , -1.45625, -1.45   , -1.44375, -1.4375 ,\n",
       "       -1.43125, -1.425  , -1.41875, -1.4125 , -1.40625, -1.4    ,\n",
       "       -1.39375, -1.3875 , -1.38125, -1.375  , -1.36875, -1.3625 ,\n",
       "       -1.35625, -1.35   , -1.34375, -1.3375 , -1.33125, -1.325  ,\n",
       "       -1.31875, -1.3125 , -1.30625, -1.3    , -1.29375, -1.2875 ,\n",
       "       -1.28125, -1.275  , -1.26875, -1.2625 , -1.25625, -1.25   ,\n",
       "       -1.24375, -1.2375 , -1.23125, -1.225  , -1.21875, -1.2125 ,\n",
       "       -1.20625, -1.2    , -1.19375, -1.1875 , -1.18125, -1.175  ,\n",
       "       -1.16875, -1.1625 , -1.15625, -1.15   , -1.14375, -1.1375 ,\n",
       "       -1.13125, -1.125  , -1.11875, -1.1125 , -1.10625, -1.1    ,\n",
       "       -1.09375, -1.0875 , -1.08125, -1.075  , -1.06875, -1.0625 ,\n",
       "       -1.05625, -1.05   , -1.04375, -1.0375 , -1.03125, -1.025  ,\n",
       "       -1.01875, -1.0125 , -1.00625, -1.     , -0.99375, -0.9875 ,\n",
       "       -0.98125, -0.975  , -0.96875, -0.9625 , -0.95625, -0.95   ,\n",
       "       -0.94375, -0.9375 , -0.93125, -0.925  , -0.91875, -0.9125 ,\n",
       "       -0.90625, -0.9    , -0.89375, -0.8875 , -0.88125, -0.875  ,\n",
       "       -0.86875, -0.8625 , -0.85625, -0.85   , -0.84375, -0.8375 ,\n",
       "       -0.83125, -0.825  , -0.81875, -0.8125 , -0.80625, -0.8    ,\n",
       "       -0.79375, -0.7875 , -0.78125, -0.775  , -0.76875, -0.7625 ,\n",
       "       -0.75625, -0.75   , -0.74375, -0.7375 , -0.73125, -0.725  ,\n",
       "       -0.71875, -0.7125 , -0.70625, -0.7    , -0.69375, -0.6875 ,\n",
       "       -0.68125, -0.675  , -0.66875, -0.6625 , -0.65625, -0.65   ,\n",
       "       -0.64375, -0.6375 , -0.63125, -0.625  , -0.61875, -0.6125 ,\n",
       "       -0.60625, -0.6    , -0.59375, -0.5875 , -0.58125, -0.575  ,\n",
       "       -0.56875, -0.5625 , -0.55625, -0.55   , -0.54375, -0.5375 ,\n",
       "       -0.53125, -0.525  , -0.51875, -0.5125 , -0.50625, -0.5    ,\n",
       "       -0.49375, -0.4875 , -0.48125, -0.475  , -0.46875, -0.4625 ,\n",
       "       -0.45625, -0.45   , -0.44375, -0.4375 , -0.43125, -0.425  ,\n",
       "       -0.41875, -0.4125 , -0.40625, -0.4    , -0.39375, -0.3875 ,\n",
       "       -0.38125, -0.375  , -0.36875, -0.3625 , -0.35625, -0.35   ,\n",
       "       -0.34375, -0.3375 , -0.33125, -0.325  , -0.31875, -0.3125 ,\n",
       "       -0.30625, -0.3    , -0.29375, -0.2875 , -0.28125, -0.275  ,\n",
       "       -0.26875, -0.2625 , -0.25625, -0.25   , -0.24375, -0.2375 ,\n",
       "       -0.23125, -0.225  , -0.21875, -0.2125 , -0.20625, -0.2    ,\n",
       "       -0.19375, -0.1875 , -0.18125, -0.175  , -0.16875, -0.1625 ,\n",
       "       -0.15625, -0.15   , -0.14375, -0.1375 , -0.13125, -0.125  ,\n",
       "       -0.11875, -0.1125 , -0.10625, -0.1    , -0.09375, -0.0875 ,\n",
       "       -0.08125, -0.075  , -0.06875, -0.0625 , -0.05625, -0.05   ,\n",
       "       -0.04375, -0.0375 , -0.03125, -0.025  , -0.01875, -0.0125 ,\n",
       "       -0.00625])"
      ]
     },
     "execution_count": 19,
     "metadata": {},
     "output_type": "execute_result"
    }
   ],
   "source": [
    "psi0"
   ]
  },
  {
   "cell_type": "code",
   "execution_count": null,
   "id": "4e497d5d",
   "metadata": {},
   "outputs": [],
   "source": [
    "z=np.hstack([0,z,zN])\n",
    "for i in range(nt):\n",
    "    pl.plot(np.hstack([psiT,psi[i,:],psiB]),z)\n",
    "    \n",
    "pl.ylim(10,0)\n",
    "pl.show()\n",
    "\n",
    "psi=np.hstack([psiT,psi[-1,:],psiB])\n",
    "\n",
    "# Save data:\n",
    "fname='output/psi.csv'\n",
    "f=open(fname,'w')\n",
    "f.write('z, psi\\n')\n",
    "\n",
    "\n",
    "for i,j in zip (z,psi): f.write('%.4f, %.4f\\n'%(i,j))\n",
    "f.close()\n",
    "\n",
    "f=open('output/runtime.csv','w')\n",
    "f.write('%.3f\\n'%runtime)\n",
    "f.close()\n",
    "\n",
    "fname='output/mb.csv'\n",
    "WB.to_csv(fname,float_format='%12.8f')"
   ]
  },
  {
   "cell_type": "code",
   "execution_count": null,
   "id": "10313140",
   "metadata": {},
   "outputs": [],
   "source": []
  }
 ],
 "metadata": {
  "kernelspec": {
   "display_name": "Python 3 (ipykernel)",
   "language": "python",
   "name": "python3"
  },
  "language_info": {
   "codemirror_mode": {
    "name": "ipython",
    "version": 3
   },
   "file_extension": ".py",
   "mimetype": "text/x-python",
   "name": "python",
   "nbconvert_exporter": "python",
   "pygments_lexer": "ipython3",
   "version": "3.9.7"
  }
 },
 "nbformat": 4,
 "nbformat_minor": 5
}
